{
 "cells": [
  {
   "cell_type": "markdown",
   "id": "08a08a21-9ec5-4573-8cec-2312cda256df",
   "metadata": {},
   "source": [
    "1. **What is a RESTful API?**  \n",
    "   A RESTful API (Representational State Transfer API) is an architectural style for designing networked applications. It uses HTTP methods to interact with resources and follows REST principles, making it lightweight, scalable, and easy to use.\n",
    "\n",
    "2. **Concept of API Specification**  \n",
    "   API specifications define how an API should behave, including its endpoints, request/response formats, authentication methods, and error handling. Popular API specification formats include **OpenAPI (Swagger)** and **RAML**, which help developers document and design APIs efficiently.\n",
    "\n",
    "3. **What is Flask, and why is it popular for building APIs?**  \n",
    "   Flask is a lightweight **Python web framework** that makes it easy to build web applications and APIs. It’s popular because it’s simple, flexible, and doesn’t impose strict conventions, making it great for rapid development.\n",
    "\n",
    "4. **What is Routing in Flask?**  \n",
    "   Routing in Flask refers to defining URL paths for different functions. Flask maps URLs to Python functions using decorators like `@app.route()`, allowing users to access specific resources or functionalities.\n",
    "\n",
    "5. **How do you create a simple Flask application?**"
   ]
  },
  {
   "cell_type": "code",
   "execution_count": 4,
   "id": "241d57a5-fdd1-4fff-a0dd-fc4b679d0fc7",
   "metadata": {},
   "outputs": [
    {
     "name": "stdout",
     "output_type": "stream",
     "text": [
      " * Serving Flask app '__main__'\n",
      " * Debug mode: on\n"
     ]
    },
    {
     "name": "stderr",
     "output_type": "stream",
     "text": [
      "WARNING: This is a development server. Do not use it in a production deployment. Use a production WSGI server instead.\n",
      " * Running on http://127.0.0.1:5000\n",
      "Press CTRL+C to quit\n",
      " * Restarting with watchdog (windowsapi)\n"
     ]
    },
    {
     "ename": "SystemExit",
     "evalue": "1",
     "output_type": "error",
     "traceback": [
      "An exception has occurred, use %tb to see the full traceback.\n",
      "\u001b[31mSystemExit\u001b[39m\u001b[31m:\u001b[39m 1\n"
     ]
    },
    {
     "name": "stderr",
     "output_type": "stream",
     "text": [
      "C:\\Users\\91620\\AppData\\Roaming\\Python\\Python312\\site-packages\\IPython\\core\\interactiveshell.py:3557: UserWarning: To exit: use 'exit', 'quit', or Ctrl-D.\n",
      "  warn(\"To exit: use 'exit', 'quit', or Ctrl-D.\", stacklevel=1)\n"
     ]
    }
   ],
   "source": [
    "#Here’s a basic example:\n",
    "\n",
    "from flask import Flask\n",
    "\n",
    "app = Flask(__name__)\n",
    "\n",
    "@app.route('/')\n",
    "def home():\n",
    "    return \"Hello, Flask!\"\n",
    "\n",
    "if __name__ == '__main__':\n",
    "    app.run(debug=True)\n",
    "#This creates a Flask application that runs a simple web server."
   ]
  },
  {
   "cell_type": "markdown",
   "id": "eb236636-dd3b-483d-897d-89415c9c6e79",
   "metadata": {},
   "source": [
    "6. **HTTP Methods in RESTful APIs**  \n",
    "   Common HTTP methods include:\n",
    "   - **GET**: Retrieve data\n",
    "   - **POST**: Create new resources\n",
    "   - **PUT**: Update existing resources\n",
    "   - **DELETE**: Remove resources\n",
    "   - **PATCH**: Modify a part of a resource\n",
    "\n",
    "7. **Purpose of the `@app.route()` decorator in Flask**  \n",
    "   The `@app.route()` decorator in Flask defines routes, mapping a URL endpoint to a specific function. It tells Flask which function should handle a particular request.\n",
    "\n",
    "8. **Difference Between GET and POST HTTP Methods**  \n",
    "   - **GET**: Requests data from the server (no modification)  \n",
    "   - **POST**: Sends data to the server to create a new resource  \n",
    "   GET is typically used for fetching, while POST is used for submitting new data.\n",
    "\n",
    "9. **How to Handle Errors in Flask APIs?**  \n",
    "   Flask provides error handling using custom error handlers:"
   ]
  },
  {
   "cell_type": "code",
   "execution_count": 9,
   "id": "14f4d244-044e-4f26-af4d-5d3ee1581928",
   "metadata": {},
   "outputs": [],
   "source": [
    "@app.errorhandler(404)\n",
    "def not_found(error):\n",
    "    return {\"error\": \"Not Found\"}, 404"
   ]
  },
  {
   "cell_type": "markdown",
   "id": "ba06ac55-5095-4a37-849a-d3998d19cca3",
   "metadata": {},
   "source": [
    "You can also use `try-except` blocks in routes and Flask’s `abort()` function for handling unexpected situations."
   ]
  },
  {
   "cell_type": "markdown",
   "id": "eb2f888b-5d18-434b-af5c-07013c7dd9a1",
   "metadata": {},
   "source": [
    "10. **How do you connect Flask to a SQL database?**  \n",
    "   Flask can connect to SQL databases using **Flask-SQLAlchemy**, which provides an Object Relational Mapper (ORM) to interact with databases using Python code.  \n",
    "   Example configuration for SQLite:"
   ]
  },
  {
   "cell_type": "markdown",
   "id": "a47606dd-1049-4982-bef1-8820dbf9f25a",
   "metadata": {},
   "source": [
    "```Python\n",
    "from flask import Flask\n",
    "from flask_sqlalchemy import SQLAlchemy\n",
    "\n",
    "app = Flask(__name__)\n",
    "app.config['SQLALCHEMY_DATABASE_URI'] = 'sqlite:///mydatabase.db'\n",
    "db = SQLAlchemy(app)\n",
    "```"
   ]
  },
  {
   "cell_type": "markdown",
   "id": "5b4b7dca-c4ca-4517-9d58-56b25bcb1987",
   "metadata": {},
   "source": [
    "11. **What is the role of Flask-SQLAlchemy?**  \n",
    "   Flask-SQLAlchemy simplifies database interaction by allowing you to use Python classes to define tables and perform queries, instead of writing raw SQL.\n",
    "\n",
    "12. **What are Flask Blueprints, and how are they useful?**  \n",
    "   Blueprints help **organize large applications** by allowing you to break routes into modules. This makes Flask apps **more maintainable and scalable**.  \n",
    "   Example of setting up a Blueprint:\n",
    "   ```python\n",
    "   from flask import Blueprint\n",
    "\n",
    "   my_blueprint = Blueprint('my_blueprint', __name__)\n",
    "\n",
    "   @my_blueprint.route('/hello')\n",
    "   def hello():\n",
    "       return \"Hello from blueprint!\"\n",
    "   ```\n",
    "\n",
    "13. **What is the purpose of Flask's request object?**  \n",
    "   `request` is a Flask object that gives access to **HTTP request data**, including form data, JSON payloads, headers, and query parameters. Example:\n",
    "   ```python\n",
    "   from flask import request\n",
    "\n",
    "   @app.route('/data', methods=['POST'])\n",
    "   def get_data():\n",
    "       user_input = request.json\n",
    "       return {\"received\": user_input}\n",
    "   ```\n",
    "\n",
    "14. **How do you create a RESTful API endpoint using Flask?**  \n",
    "   Define a route and use HTTP methods:\n",
    "   ```python\n",
    "   from flask import Flask, jsonify\n",
    "\n",
    "   app = Flask(__name__)\n",
    "\n",
    "   @app.route('/api/data', methods=['GET'])\n",
    "   def get_data():\n",
    "       return jsonify({\"message\": \"Hello, Flask API!\"})\n",
    "   ```\n",
    "\n",
    "15. **What is the purpose of Flask's jsonify() function?**  \n",
    "   `jsonify()` converts Python dictionaries into **JSON responses**, making API responses structured and readable by clients.\n",
    "\n",
    "16. **Explain Flask’s url_for() function**  \n",
    "   `url_for()` dynamically generates URLs for views, avoiding hardcoded paths:\n",
    "   ```python\n",
    "   from flask import url_for\n",
    "\n",
    "   @app.route('/profile')\n",
    "   def profile():\n",
    "       return f\"Visit {url_for('profile')}\"\n",
    "   ```\n",
    "\n",
    "17. **How does Flask handle static files (CSS, JavaScript, etc.)?**  \n",
    "   Flask serves static files via the `/static/` route. Store files in a `static` folder, and reference them in templates:\n",
    "    <link rel=\"stylesheet\" href=\"{{ url_for('static', filename='style.css') }}\">"
   ]
  },
  {
   "cell_type": "markdown",
   "id": "2cca5bd9-290f-4d15-859e-83d94868b540",
   "metadata": {},
   "source": [
    "18. **What is an API Specification, and how does it help in building a Flask API?**  \n",
    "   An **API specification** defines the structure, behavior, and expected inputs/outputs of an API. It helps developers create consistent and well-documented APIs.  \n",
    "   Popular specifications:\n",
    "   - **OpenAPI (Swagger)**: Provides standardized API documentation and interactive testing.\n",
    "   - **RAML**: Focuses on designing APIs before coding.\n",
    "\n",
    "   In Flask, using OpenAPI tools like **Flask-RESTPlus** or **Flask-Swagger** improves documentation and development flow.\n",
    "\n",
    "19. **What are HTTP Status Codes, and why are they important in a Flask API?**  \n",
    "   HTTP status codes indicate the outcome of a request:\n",
    "   - **200 OK**: Successful request\n",
    "   - **201 Created**: Resource created successfully\n",
    "   - **400 Bad Request**: Invalid request format\n",
    "   - **401 Unauthorized**: User authentication required\n",
    "   - **404 Not Found**: Resource doesn't exist\n",
    "   - **500 Internal Server Error**: Server encountered an issue\n",
    "\n",
    "   Returning meaningful status codes in a Flask API helps clients understand responses and handle errors effectively.\n",
    "\n",
    "20. **How do you handle POST requests in Flask?**  \n",
    "   Flask allows handling `POST` requests to accept data and process it:\n",
    "   ```python\n",
    "   from flask import Flask, request, jsonify\n",
    "\n",
    "   app = Flask(__name__)\n",
    "\n",
    "   @app.route('/submit', methods=['POST'])\n",
    "   def handle_post():\n",
    "       data = request.json\n",
    "       return jsonify({\"message\": \"Data received\", \"data\": data}), 201\n",
    "   ```\n",
    "   - `request.json` retrieves incoming JSON data.\n",
    "   - Returning **201 Created** confirms a successful request.\n",
    "\n",
    "21. **How would you secure a Flask API?**  \n",
    "   Security is key! Here are some methods:\n",
    "   - **Authentication & Authorization**: Use JWT or OAuth for user authentication.\n",
    "   - **API Key Protection**: Restrict access using API keys.\n",
    "   - **Input Validation**: Prevent SQL injection and XSS by sanitizing inputs.\n",
    "   - **Rate Limiting**: Prevent excessive requests with Flask-Limiter.\n",
    "   - **HTTPS**: Encrypt data transmission using SSL/TLS.\n",
    "   - **Error Handling**: Gracefully handle exceptions to avoid exposing internal logic.\n",
    "\n",
    "22. **What is the significance of the Flask-RESTful extension?**  \n",
    "   Flask-RESTful simplifies REST API development with cleaner routing and request handling.  \n",
    "   Features:\n",
    "   - Class-based views (`Resource` class)\n",
    "   - Automatic response formatting (`jsonify`)\n",
    "   - Built-in request parsing\n",
    "\n",
    "   Example:\n",
    "   ```python\n",
    "   from flask import Flask\n",
    "   from flask_restful import Resource, Api\n",
    "\n",
    "   app = Flask(__name__)\n",
    "   api = Api(app)\n",
    "\n",
    "   class HelloWorld(Resource):\n",
    "       def get(self):\n",
    "           return {'message': 'Hello, RESTful Flask!'}\n",
    "\n",
    "   api.add_resource(HelloWorld, '/')\n",
    "\n",
    "   if __name__ == '__main__':\n",
    "       app.run(debug=True)\n",
    "   ```\n",
    "\n",
    "23. **What is the role of Flask’s session object?**  \n",
    "   The `session` object stores **user-specific data** across requests, such as authentication information or preferences. Flask uses **signed cookies** to persist session data securely.\n",
    "\n",
    "   Example usage:\n",
    "   ```python\n",
    "   from flask import Flask, session\n",
    "\n",
    "   app = Flask(__name__)\n",
    "   app.secret_key = 'supersecretkey'  # Required for session security\n",
    "\n",
    "   @app.route('/set_session')\n",
    "   def set_session():\n",
    "       session['username'] = 'Shivam'\n",
    "       return \"Session stored!\"\n",
    "\n",
    "   @app.route('/get_session')\n",
    "   def get_session():\n",
    "       return f\"Welcome, {session.get('username', 'Guest')}!\"\n",
    "   ```"
   ]
  }
 ],
 "metadata": {
  "kernelspec": {
   "display_name": "Python 3 (ipykernel)",
   "language": "python",
   "name": "python3"
  },
  "language_info": {
   "codemirror_mode": {
    "name": "ipython",
    "version": 3
   },
   "file_extension": ".py",
   "mimetype": "text/x-python",
   "name": "python",
   "nbconvert_exporter": "python",
   "pygments_lexer": "ipython3",
   "version": "3.12.7"
  }
 },
 "nbformat": 4,
 "nbformat_minor": 5
}
